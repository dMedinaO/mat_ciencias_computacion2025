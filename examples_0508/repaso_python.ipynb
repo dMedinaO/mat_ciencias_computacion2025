{
 "cells": [
  {
   "cell_type": "markdown",
   "id": "a134daab",
   "metadata": {},
   "source": [
    "### Ejemplos demostrativos de conceptos básicos de python.\n",
    "\n",
    "- Tipos de datos\n",
    "- Datos estructurados y no estructurados\n",
    "- Operaciones\n",
    "- Condicionales y Ciclos\n",
    "- Funciones\n",
    "- Demo POO"
   ]
  },
  {
   "cell_type": "code",
   "execution_count": 1,
   "id": "ffd54fd6",
   "metadata": {},
   "outputs": [],
   "source": [
    "# pip install seaborn"
   ]
  },
  {
   "cell_type": "code",
   "execution_count": 2,
   "id": "a5742bd5",
   "metadata": {},
   "outputs": [],
   "source": [
    "import pandas as pd\n",
    "import numpy as np\n",
    "import seaborn as sns\n",
    "from random import randint"
   ]
  },
  {
   "cell_type": "code",
   "execution_count": 3,
   "id": "5ae8d046",
   "metadata": {},
   "outputs": [],
   "source": [
    "def my_function_01():\n",
    "    print(\"Hola\")"
   ]
  },
  {
   "cell_type": "code",
   "execution_count": 4,
   "id": "290a5b20",
   "metadata": {},
   "outputs": [],
   "source": [
    "def my_function_02(name, message):\n",
    "    print(f\"Hola: {name}, this is the message: {message}\")"
   ]
  },
  {
   "cell_type": "code",
   "execution_count": 5,
   "id": "afeca153",
   "metadata": {},
   "outputs": [],
   "source": [
    "def my_function_03(name=\"Diego\", message=\"Hello world\"):\n",
    "    print(f\"Hola: {name}, this is the message: {message}\")"
   ]
  },
  {
   "cell_type": "code",
   "execution_count": 6,
   "id": "7da08ae9",
   "metadata": {},
   "outputs": [],
   "source": [
    "variable1 = \"perro\""
   ]
  },
  {
   "cell_type": "code",
   "execution_count": 7,
   "id": "c0bdf07f",
   "metadata": {},
   "outputs": [],
   "source": [
    "variable2 = 4"
   ]
  },
  {
   "cell_type": "code",
   "execution_count": 8,
   "id": "40725665",
   "metadata": {},
   "outputs": [
    {
     "data": {
      "text/plain": [
       "'perroperroperroperro'"
      ]
     },
     "execution_count": 8,
     "metadata": {},
     "output_type": "execute_result"
    }
   ],
   "source": [
    "variable1 * variable2"
   ]
  },
  {
   "cell_type": "code",
   "execution_count": 9,
   "id": "d599ac62",
   "metadata": {},
   "outputs": [
    {
     "name": "stdout",
     "output_type": "stream",
     "text": [
      "Es un Perro\n"
     ]
    }
   ],
   "source": [
    "if variable1 == \"Gato\":\n",
    "    print(\"Es un gato\")\n",
    "elif variable1.capitalize() == \"Perro\":\n",
    "    print(\"Es un Perro\")\n",
    "else:\n",
    "    print(\"Hay que revisar\")"
   ]
  },
  {
   "cell_type": "code",
   "execution_count": 10,
   "id": "fe27c8e4",
   "metadata": {},
   "outputs": [
    {
     "name": "stdout",
     "output_type": "stream",
     "text": [
      "\n",
      "*\n",
      "**\n",
      "***\n",
      "****\n",
      "*****\n",
      "******\n",
      "*******\n",
      "********\n",
      "*********\n"
     ]
    }
   ],
   "source": [
    "for i in range(10):\n",
    "    print(\"*\"*i)"
   ]
  },
  {
   "cell_type": "code",
   "execution_count": 11,
   "id": "ed28a403",
   "metadata": {},
   "outputs": [
    {
     "data": {
      "text/plain": [
       "['perro', 4, 'hola']"
      ]
     },
     "execution_count": 11,
     "metadata": {},
     "output_type": "execute_result"
    }
   ],
   "source": [
    "lista_1 = [variable1, variable2, \"hola\"]\n",
    "lista_1"
   ]
  },
  {
   "cell_type": "code",
   "execution_count": 12,
   "id": "97be8b3c",
   "metadata": {},
   "outputs": [
    {
     "data": {
      "text/plain": [
       "[4, 'hola']"
      ]
     },
     "execution_count": 12,
     "metadata": {},
     "output_type": "execute_result"
    }
   ],
   "source": [
    "lista_1[1:]"
   ]
  },
  {
   "cell_type": "code",
   "execution_count": 13,
   "id": "cd21ef64",
   "metadata": {},
   "outputs": [
    {
     "data": {
      "text/plain": [
       "{'key1': 'perro', 'key2': 4}"
      ]
     },
     "execution_count": 13,
     "metadata": {},
     "output_type": "execute_result"
    }
   ],
   "source": [
    "dict_demo = {\n",
    "    \"key1\" : variable1,\n",
    "    \"key2\" : variable2\n",
    "}\n",
    "\n",
    "dict_demo"
   ]
  },
  {
   "cell_type": "code",
   "execution_count": 14,
   "id": "a80a9da5",
   "metadata": {},
   "outputs": [
    {
     "data": {
      "text/plain": [
       "'perro'"
      ]
     },
     "execution_count": 14,
     "metadata": {},
     "output_type": "execute_result"
    }
   ],
   "source": [
    "dict_demo['key1']"
   ]
  },
  {
   "cell_type": "code",
   "execution_count": 15,
   "id": "5cad9778",
   "metadata": {},
   "outputs": [],
   "source": [
    "complex_dict = {\n",
    "    \"key1\" : dict_demo,\n",
    "    \"key2\" : lista_1\n",
    "}"
   ]
  },
  {
   "cell_type": "code",
   "execution_count": 16,
   "id": "8430c79a",
   "metadata": {},
   "outputs": [
    {
     "data": {
      "text/plain": [
       "'perro'"
      ]
     },
     "execution_count": 16,
     "metadata": {},
     "output_type": "execute_result"
    }
   ],
   "source": [
    "complex_dict['key1']['key1']"
   ]
  },
  {
   "cell_type": "code",
   "execution_count": 17,
   "id": "1567baa2",
   "metadata": {},
   "outputs": [
    {
     "data": {
      "text/plain": [
       "[4, 'hola']"
      ]
     },
     "execution_count": 17,
     "metadata": {},
     "output_type": "execute_result"
    }
   ],
   "source": [
    "complex_dict['key2'][1:]"
   ]
  },
  {
   "cell_type": "code",
   "execution_count": 18,
   "id": "005fe9be",
   "metadata": {},
   "outputs": [
    {
     "name": "stdout",
     "output_type": "stream",
     "text": [
      "Hola\n"
     ]
    }
   ],
   "source": [
    "my_function_01()"
   ]
  },
  {
   "cell_type": "code",
   "execution_count": 19,
   "id": "7798c52e",
   "metadata": {},
   "outputs": [
    {
     "name": "stdout",
     "output_type": "stream",
     "text": [
      "Hola: Hola hola, this is the message: Diego\n"
     ]
    }
   ],
   "source": [
    "my_function_02(\"Hola hola\", \"Diego\")"
   ]
  },
  {
   "cell_type": "code",
   "execution_count": 20,
   "id": "ec44fb46",
   "metadata": {},
   "outputs": [
    {
     "name": "stdout",
     "output_type": "stream",
     "text": [
      "Hola: Diego3, this is the message: New secret message\n"
     ]
    }
   ],
   "source": [
    "my_function_03(message=\"New secret message\", name=\"Diego3\")"
   ]
  },
  {
   "cell_type": "code",
   "execution_count": 26,
   "id": "6594f7a3",
   "metadata": {},
   "outputs": [
    {
     "data": {
      "text/html": [
       "<div>\n",
       "<style scoped>\n",
       "    .dataframe tbody tr th:only-of-type {\n",
       "        vertical-align: middle;\n",
       "    }\n",
       "\n",
       "    .dataframe tbody tr th {\n",
       "        vertical-align: top;\n",
       "    }\n",
       "\n",
       "    .dataframe thead th {\n",
       "        text-align: right;\n",
       "    }\n",
       "</style>\n",
       "<table border=\"1\" class=\"dataframe\">\n",
       "  <thead>\n",
       "    <tr style=\"text-align: right;\">\n",
       "      <th></th>\n",
       "      <th>column1</th>\n",
       "    </tr>\n",
       "  </thead>\n",
       "  <tbody>\n",
       "    <tr>\n",
       "      <th>0</th>\n",
       "      <td>35</td>\n",
       "    </tr>\n",
       "    <tr>\n",
       "      <th>1</th>\n",
       "      <td>49</td>\n",
       "    </tr>\n",
       "    <tr>\n",
       "      <th>2</th>\n",
       "      <td>75</td>\n",
       "    </tr>\n",
       "    <tr>\n",
       "      <th>3</th>\n",
       "      <td>30</td>\n",
       "    </tr>\n",
       "    <tr>\n",
       "      <th>4</th>\n",
       "      <td>67</td>\n",
       "    </tr>\n",
       "  </tbody>\n",
       "</table>\n",
       "</div>"
      ],
      "text/plain": [
       "   column1\n",
       "0       35\n",
       "1       49\n",
       "2       75\n",
       "3       30\n",
       "4       67"
      ]
     },
     "execution_count": 26,
     "metadata": {},
     "output_type": "execute_result"
    }
   ],
   "source": [
    "df = pd.DataFrame()\n",
    "df[\"column1\"] = [randint(10, 100) for i in range(10)]\n",
    "df.head(5)"
   ]
  }
 ],
 "metadata": {
  "kernelspec": {
   "display_name": "mat_ciencias_computacion_2025",
   "language": "python",
   "name": "python3"
  },
  "language_info": {
   "codemirror_mode": {
    "name": "ipython",
    "version": 3
   },
   "file_extension": ".py",
   "mimetype": "text/x-python",
   "name": "python",
   "nbconvert_exporter": "python",
   "pygments_lexer": "ipython3",
   "version": "3.13.5"
  }
 },
 "nbformat": 4,
 "nbformat_minor": 5
}
